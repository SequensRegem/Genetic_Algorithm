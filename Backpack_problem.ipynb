{
 "cells": [
  {
   "cell_type": "code",
   "execution_count": 1,
   "id": "29c5e9af-8b27-4c86-add2-47650eced0e8",
   "metadata": {},
   "outputs": [],
   "source": [
    "class Individual:\n",
    "    def __init__(self,genome,value=0,weight=0,validated=False):\n",
    "        self.genome = genome\n",
    "        self.value = value\n",
    "        self.weight = weight\n",
    "        self.validated = validated\n"
   ]
  },
  {
   "cell_type": "code",
   "execution_count": 3,
   "id": "b44bf068-1c03-467f-b6c3-f55a365f838d",
   "metadata": {},
   "outputs": [],
   "source": [
    "import numpy\n",
    "import random\n",
    "import matplotlib.pyplot as plt"
   ]
  },
  {
   "cell_type": "code",
   "execution_count": 37,
   "id": "982b00cc-a9a7-4424-a759-fc006a7e72e6",
   "metadata": {},
   "outputs": [],
   "source": [
    "def fitness_function (Individual):\n",
    "\n",
    "    if Individual.validated == False:\n",
    "        weights = [5, 25, 75, 50, 20, 30, 40]\n",
    "        values = [50, 100, 500, 200, 50, 80, 20]\n",
    "        value_total = 0\n",
    "        weight_total = 0\n",
    "        for index, active in enumerate(Individual.genome):\n",
    "            if active:\n",
    "                value_total += values[index]\n",
    "                weight_total += weights[index]\n",
    "                \n",
    "        Individual.validated = True\n",
    "        if weight_total > 100:\n",
    "            value_total = 0\n",
    "    else:\n",
    "        return(Individual.value,Individual.weight)\n",
    "    \n",
    "\n",
    "    return(value_total,weight_total)"
   ]
  },
  {
   "cell_type": "code",
   "execution_count": 5,
   "id": "eeb1bf84-5aa9-43e9-87cc-c1887cd5d7d8",
   "metadata": {},
   "outputs": [],
   "source": [
    "def create_initial_population(size):\n",
    "    population = []\n",
    "    for _ in range(size):\n",
    "        genome = (random.randint(0,1),\n",
    "                  random.randint(0,1),\n",
    "                  random.randint(0,1),\n",
    "                  random.randint(0,1),\n",
    "                  random.randint(0,1),\n",
    "                  random.randint(0,1),\n",
    "                  random.randint(0,1))\n",
    "        individual = Individual(genome=genome)\n",
    "        value,weight = fitness_function(individual)\n",
    "        individual.value = value\n",
    "        individual.weight = weight\n",
    "        population.append(individual)\n",
    "        \n",
    "    return population"
   ]
  },
  {
   "cell_type": "code",
   "execution_count": 9,
   "id": "a71607d3-eaae-483d-8e6d-93e3aa86106f",
   "metadata": {},
   "outputs": [],
   "source": [
    "def selection(selected_tournment):\n",
    "    selected = []\n",
    "    for _ in range(len(selected_tournment)):\n",
    "        first_pair = [selected_tournment[0],selected_tournment[1]]\n",
    "        second_pair = [selected_tournment[2],selected_tournment[3]]\n",
    "        winner_1 = max(first_pair, key=lambda x: x.value)\n",
    "        winner_2 = max(second_pair, key=lambda x: x.value)\n",
    "        selected.append(winner_1)\n",
    "        selected.append(winner_2)\n",
    "    return selected"
   ]
  },
  {
   "cell_type": "code",
   "execution_count": 11,
   "id": "09a1d178-22c7-4768-b169-8af325c4cd4c",
   "metadata": {},
   "outputs": [],
   "source": [
    "def genome_decision(genome_1,genome_2):\n",
    "    genome_1 = list(genome_1)\n",
    "    genome_2 = list(genome_2)\n",
    "    \n",
    "    decision_parent = []\n",
    "    genome_child = []\n",
    "    \n",
    "    for ind in range(7):\n",
    "        decision_parent.append(random.randint(0,1))\n",
    "\n",
    "    for ind in range(7):\n",
    "        if decision_parent[ind] == 1:\n",
    "            genome_child.append(genome_1[ind])\n",
    "        else:\n",
    "            genome_child.append(genome_2[ind])\n",
    "\n",
    "    return(genome_child)"
   ]
  },
  {
   "cell_type": "code",
   "execution_count": 13,
   "id": "0ad9939e-0a6d-44a5-804d-d71a20f9ea55",
   "metadata": {},
   "outputs": [],
   "source": [
    "def verif_weight(Individual):\n",
    "    if Individual.weight > 100:\n",
    "        Individual.value = 0"
   ]
  },
  {
   "cell_type": "code",
   "execution_count": 15,
   "id": "6a3b78db-3ee7-4805-b268-9b63edfd78ed",
   "metadata": {},
   "outputs": [],
   "source": [
    "def crossover(selected_1, selected_2):\n",
    "    \n",
    "    child1 = Individual(genome = genome_decision(selected_1.genome,selected_2.genome))\n",
    "    child2 = Individual(genome = genome_decision(selected_2.genome,selected_1.genome))\n",
    "    \n",
    "    value_1,weight_1 = fitness_function(child1)\n",
    "    value_2,weight_2 = fitness_function(child2)\n",
    "    \n",
    "    child1.value = value_1\n",
    "    child1.weight = weight_1\n",
    "    \n",
    "    child2.value = value_2\n",
    "    child2.weight = weight_2\n",
    "\n",
    "    verif_weight(child1)\n",
    "    verif_weight(child2)\n",
    "    \n",
    "    return child1, child2"
   ]
  },
  {
   "cell_type": "code",
   "execution_count": 55,
   "id": "485e952b-69cc-4502-9798-451dd3f8185d",
   "metadata": {},
   "outputs": [],
   "source": [
    "def mutation(child, mutation_rate):\n",
    "    genome = child.genome\n",
    "    child.validated = False\n",
    "    \n",
    "    for i in range(len(genome)):\n",
    "        if random.random() < mutation_rate:\n",
    "            sorted_index = random.randrange(len(genome))\n",
    "            if(genome[sorted_index]==1):\n",
    "                genome[sorted_index] = 0\n",
    "            else:\n",
    "                genome[sorted_index] = 1\n",
    "                \n",
    "    child.genome = genome\n",
    "    value,weight = fitness_function(child)\n",
    "    child.value = value\n",
    "    child.weight = weight\n",
    "    \n",
    "    return(child)"
   ]
  },
  {
   "cell_type": "code",
   "execution_count": 19,
   "id": "5da20ee8-1b59-4e69-a562-d1abbcd8f6d8",
   "metadata": {},
   "outputs": [],
   "source": [
    "def select_individuals(population):\n",
    "    available = range(len(population))\n",
    "    sorted_parents = random.sample(available,4)\n",
    "\n",
    "    parent1 = population[sorted_parents[0]]\n",
    "    parent2 = population[sorted_parents[1]]\n",
    "    parent3 = population[sorted_parents[2]]\n",
    "    parent4 = population[sorted_parents[3]]\n",
    "\n",
    "    selected_tournment = [parent1,parent2,parent3,parent4]\n",
    "    \n",
    "    selected_crossover = selection(selected_tournment)\n",
    "\n",
    "    return(selected_crossover)"
   ]
  },
  {
   "cell_type": "code",
   "execution_count": 51,
   "id": "ead28627-c3b0-4900-8199-2ffb239c478e",
   "metadata": {},
   "outputs": [],
   "source": [
    "# Main genetic algorithm function\n",
    "def genetic_algorithm(population_size,generations, mutation_rate):\n",
    "    population = create_initial_population(population_size)\n",
    "\n",
    "    for generation in range(generations):\n",
    "        new_population = []\n",
    "\n",
    "        best_individual = max(population, key=lambda x: fitness_function(x))\n",
    "        best_fitness = fitness_function(best_individual)\n",
    "\n",
    "        index_best_individuals = sorted(range(len(population)), key=lambda x: population[x].value)\n",
    "        primary_best_individual = population[index_best_individuals[-1]]\n",
    "        second_best_individual = population[index_best_individuals[-2]]\n",
    "\n",
    "        for _ in range(14):\n",
    "\n",
    "            selected_crossover = select_individuals(population)\n",
    "    \n",
    "            child1, child2 = crossover(selected_crossover[0], selected_crossover[1])\n",
    "    \n",
    "            child1 = mutation(child1, mutation_rate)\n",
    "            child2 = mutation(child2, mutation_rate)\n",
    "            \n",
    "            # sorted_index = random.sample(range(len(population)),2)\n",
    "            # print(sorted_index)\n",
    "            # population[sorted_index[0]] = child1\n",
    "            # population[sorted_index[1]] = child2\n",
    "            \n",
    "            # index_worst_individuals = sorted(range(len(population)), key=lambda x: population[x].value)\n",
    "            new_population.append(child1)\n",
    "            new_population.append(child2)\n",
    "\n",
    "        new_population.append(primary_best_individual)\n",
    "        new_population.append(second_best_individual)\n",
    "\n",
    "        population = new_population\n",
    "\n",
    "        print(generation)\n",
    "\n",
    "    return (best_individual)"
   ]
  },
  {
   "cell_type": "code",
   "execution_count": 78,
   "id": "51f6d124-e552-4722-8583-16297128e6ba",
   "metadata": {},
   "outputs": [
    {
     "name": "stdout",
     "output_type": "stream",
     "text": [
      "0\n",
      "1\n",
      "2\n",
      "3\n",
      "4\n",
      "5\n",
      "6\n",
      "7\n",
      "8\n",
      "9\n",
      "10\n",
      "11\n",
      "12\n",
      "13\n",
      "14\n",
      "15\n",
      "16\n",
      "17\n",
      "18\n",
      "19\n",
      "[1, 0, 1, 0, 1, 0, 0]\n",
      "600\n",
      "100\n"
     ]
    }
   ],
   "source": [
    "# Parameters for the genetic algorithm\n",
    "population_size = 10\n",
    "generations = 20\n",
    "mutation_rate = 1\n",
    "\n",
    "# Run the genetic algorithm\n",
    "best_individual = genetic_algorithm(population_size, generations, mutation_rate)\n",
    "print(best_individual.genome)\n",
    "print(best_individual.value)\n",
    "print(best_individual.weight)"
   ]
  }
 ],
 "metadata": {
  "kernelspec": {
   "display_name": "Python 3 (ipykernel)",
   "language": "python",
   "name": "python3"
  },
  "language_info": {
   "codemirror_mode": {
    "name": "ipython",
    "version": 3
   },
   "file_extension": ".py",
   "mimetype": "text/x-python",
   "name": "python",
   "nbconvert_exporter": "python",
   "pygments_lexer": "ipython3",
   "version": "3.12.4"
  }
 },
 "nbformat": 4,
 "nbformat_minor": 5
}
